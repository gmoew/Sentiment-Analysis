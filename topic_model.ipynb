{
 "cells": [
  {
   "cell_type": "markdown",
   "metadata": {},
   "source": [
    "# Import data set\n"
   ]
  },
  {
   "cell_type": "code",
   "execution_count": 1,
   "metadata": {},
   "outputs": [],
   "source": [
    "import pandas as pd\n",
    "df = pd.read_csv('result.csv')"
   ]
  },
  {
   "cell_type": "code",
   "execution_count": 6,
   "metadata": {},
   "outputs": [],
   "source": [
    "pos_df = pd.DataFrame()\n",
    "pos_df = df[df['Category'] == 1]"
   ]
  },
  {
   "cell_type": "markdown",
   "metadata": {},
   "source": [
    "# Preprocess\n"
   ]
  },
  {
   "cell_type": "code",
   "execution_count": 7,
   "metadata": {},
   "outputs": [
    {
     "name": "stdout",
     "output_type": "stream",
     "text": [
      "[['but', 'cinderella', 'gets', 'my', 'vote', 'not', 'only', 'for', 'the', 'worst', 'of', 'disneys', 'princess', 'movies', 'but', 'for', 'the', 'worst', 'movie', 'the', 'company', 'made', 'during', 'walts', 'lifetime', 'the', 'music', 'is', 'genuinely', 'pretty', 'and', 'the', 'story', 'deserves', 'to', 'be', 'called', 'classic', 'what', 'fails', 'in', 'this', 'movie', 'are', 'the', 'characters', 'particularly', 'the', 'title', 'character', 'who', 'could', 'only', 'be', 'called', 'the', 'heroine', 'in', 'the', 'loosest', 'sense', 'of', 'the', 'term', 'after', 'brief', 'prologue', 'the', 'audience', 'is', 'introduced', 'to', 'cinderella', 'she', 'is', 'waking', 'up', 'in', 'the', 'morning', 'and', 'singing', 'dream', 'is', 'wish', 'your', 'heart', 'makes', 'this', 'establishes', 'her', 'as', 'an', 'idealist', 'and', 'thus', 'deserving', 'of', 'our', 'sympathy', 'unfortunately', 'the', 'script', 'gives', 'us', 'no', 'clue', 'as', 'to', 'what', 'she', 'is', 'dreaming', 'about', 'freedom', 'from', 'her', 'servant', 'role', 'the', 'respect', 'of', 'her', 'stepfamily', 'someone', 'to', 'talk', 'to', 'besides', 'mice', 'and', 'birds', 'in', 'one', 'song', 'cut', 'from', 'the', 'movie', 'but', 'presented', 'in', 'the', 'special', 'features', 'section', 'of', 'the', 'latest', 'dvd', 'cinderella', 'relates', 'her', 'wish', 'that', 'there', 'could', 'be', 'many', 'of', 'her', 'so', 'she', 'could', 'do', 'her', 'work', 'more', 'efficiently', 'you', 'go', 'girlfriend', 'in', 'short', 'cinderella', 'is', 'very', 'bland', 'character', 'she', 'passively', 'accepts', 'her', 'stepfamilys', 'abuse', 'escaping', 'into', 'her', 'unspoken', 'dreams', 'for', 'relief', 'she', 'only', 'asserts', 'herself', 'once', 'by', 'reminding', 'her', 'stepmother', 'that', 'she', 'is', 'still', 'member', 'of', 'the', 'family', 'for', 'this', 'she', 'is', 'given', 'permission', 'to', 'go', 'the', 'ball', 'if', 'she', 'completes', 'her', 'housework', 'and', 'finds', 'something', 'to', 'wear', 'token', 'gesture', 'that', 'is', 'clearly', 'absurd', 'to', 'everyone', 'except', 'of', 'course', 'cinderella', 'can', 'anyone', 'see', 'belle', 'or', 'jasmine', 'being', 'such', 'doormat', 'if', 'cinderella', 'is', 'dull', 'her', 'male', 'counterpart', 'is', 'nothing', 'short', 'of', 'lifeless', 'the', 'prince', 'in', 'cinderella', 'gets', 'no', 'dialog', 'and', 'almost', 'no', 'screen', 'time', 'we', 'are', 'given', 'no', 'indication', 'if', 'he', 'is', 'good', 'man', 'if', 'he', 'respects', 'cinderella', 'or', 'anything', 'all', 'we', 'know', 'is', 'he', 'is', 'prince', 'and', 'he', 'dances', 'well', 'heck', 'even', 'the', 'prince', 'from', 'snow', 'white', 'got', 'to', 'sing', 'romantic', 'song', 'at', 'least', 'not', 'only', 'does', 'this', 'lack', 'of', 'development', 'make', 'the', 'romance', 'less', 'interesting', 'it', 'makes', 'cinderella', 'look', 'like', 'either', 'social', 'climber', 'or', 'an', 'idiot', 'weakening', 'her', 'already', 'tenuous', 'appeal', 'perhaps', 'realizing', 'how', 'dull', 'the', 'main', 'characters', 'were', 'the', 'animators', 'chose', 'to', 'give', 'excessive', 'screen', 'time', 'to', 'the', 'movies', 'comic', 'relief', 'cinderellas', 'friends', 'the', 'mice', 'granted', 'these', 'characters', 'are', 'amusing', 'even', 'so', 'when', 'the', 'comic', 'relief', 'steals', 'the', 'show', 'from', 'the', 'principals', 'well', 'lets', 'just', 'say', 'your', 'story', 'has', 'some', 'problems', 'dinsey', 'loves', 'to', 'proclaim', 'all', 'its', 'animated', 'features', 'as', 'masterpieces', 'while', 'many', 'of', 'them', 'are', 'there', 'are', 'some', 'that', 'do', 'not', 'deserve', 'this', 'appellate', 'in', 'any', 'way', 'cinderella', 'is', 'prime', 'example', 'of', 'this', 'fact']]\n"
     ]
    }
   ],
   "source": [
    "import gensim\n",
    "data = list(pos_df['Text'])\n",
    "\n",
    "def sent_to_words(sentences):\n",
    "    for sentence in sentences:\n",
    "        yield(gensim.utils.simple_preprocess(str(sentence), deacc=True))  # deacc=True removes punctuations\n",
    "\n",
    "data_words = list(sent_to_words(data))\n",
    "\n",
    "print(data_words[:1])"
   ]
  },
  {
   "cell_type": "markdown",
   "metadata": {},
   "source": [
    "# Create bigram and trigram for the model\n"
   ]
  },
  {
   "cell_type": "code",
   "execution_count": 8,
   "metadata": {},
   "outputs": [
    {
     "name": "stdout",
     "output_type": "stream",
     "text": [
      "['but', 'cinderella', 'gets', 'my', 'vote', 'not', 'only', 'for', 'the', 'worst', 'of', 'disneys', 'princess', 'movies', 'but', 'for', 'the', 'worst', 'movie', 'the', 'company', 'made', 'during', 'walts', 'lifetime', 'the', 'music', 'is', 'genuinely', 'pretty', 'and', 'the', 'story', 'deserves', 'to', 'be', 'called', 'classic', 'what', 'fails', 'in', 'this', 'movie', 'are', 'the', 'characters', 'particularly', 'the', 'title', 'character', 'who', 'could', 'only', 'be', 'called', 'the', 'heroine', 'in', 'the', 'loosest', 'sense', 'of', 'the', 'term', 'after', 'brief', 'prologue', 'the', 'audience', 'is', 'introduced', 'to', 'cinderella', 'she', 'is', 'waking_up', 'in', 'the', 'morning', 'and', 'singing', 'dream', 'is', 'wish', 'your', 'heart', 'makes', 'this', 'establishes', 'her', 'as', 'an', 'idealist', 'and', 'thus', 'deserving', 'of', 'our', 'sympathy', 'unfortunately', 'the', 'script', 'gives', 'us', 'no', 'clue', 'as', 'to', 'what', 'she', 'is', 'dreaming', 'about', 'freedom', 'from', 'her', 'servant', 'role', 'the', 'respect', 'of', 'her', 'stepfamily', 'someone', 'to', 'talk', 'to', 'besides', 'mice', 'and', 'birds', 'in', 'one', 'song', 'cut', 'from', 'the', 'movie', 'but', 'presented', 'in', 'the', 'special', 'features', 'section', 'of', 'the', 'latest', 'dvd', 'cinderella', 'relates', 'her', 'wish', 'that', 'there', 'could', 'be', 'many', 'of', 'her', 'so', 'she', 'could', 'do', 'her', 'work', 'more', 'efficiently', 'you', 'go', 'girlfriend', 'in', 'short', 'cinderella', 'is', 'very', 'bland', 'character', 'she', 'passively', 'accepts', 'her', 'stepfamilys', 'abuse', 'escaping', 'into', 'her', 'unspoken', 'dreams', 'for', 'relief', 'she', 'only', 'asserts', 'herself', 'once', 'by', 'reminding', 'her', 'stepmother', 'that', 'she', 'is', 'still', 'member', 'of', 'the', 'family', 'for', 'this', 'she', 'is', 'given', 'permission', 'to', 'go', 'the', 'ball', 'if', 'she', 'completes', 'her', 'housework', 'and', 'finds', 'something', 'to', 'wear', 'token', 'gesture', 'that', 'is', 'clearly', 'absurd', 'to', 'everyone', 'except', 'of', 'course', 'cinderella', 'can', 'anyone', 'see', 'belle', 'or', 'jasmine', 'being', 'such', 'doormat', 'if', 'cinderella', 'is', 'dull', 'her', 'male', 'counterpart', 'is', 'nothing', 'short', 'of', 'lifeless', 'the', 'prince', 'in', 'cinderella', 'gets', 'no', 'dialog', 'and', 'almost', 'no', 'screen', 'time', 'we', 'are', 'given', 'no', 'indication', 'if', 'he', 'is', 'good', 'man', 'if', 'he', 'respects', 'cinderella', 'or', 'anything', 'all', 'we', 'know', 'is', 'he', 'is', 'prince', 'and', 'he', 'dances', 'well', 'heck', 'even', 'the', 'prince', 'from', 'snow', 'white', 'got', 'to', 'sing', 'romantic', 'song', 'at', 'least', 'not', 'only', 'does', 'this', 'lack', 'of', 'development', 'make', 'the', 'romance', 'less', 'interesting', 'it', 'makes', 'cinderella', 'look', 'like', 'either', 'social', 'climber', 'or', 'an', 'idiot', 'weakening', 'her', 'already', 'tenuous', 'appeal', 'perhaps', 'realizing', 'how', 'dull', 'the', 'main', 'characters', 'were', 'the', 'animators', 'chose', 'to', 'give', 'excessive', 'screen', 'time', 'to', 'the', 'movies', 'comic_relief', 'cinderellas', 'friends', 'the', 'mice', 'granted', 'these', 'characters', 'are', 'amusing', 'even', 'so', 'when', 'the', 'comic_relief', 'steals', 'the', 'show', 'from', 'the', 'principals', 'well', 'lets', 'just', 'say', 'your', 'story', 'has', 'some', 'problems', 'dinsey', 'loves', 'to', 'proclaim', 'all', 'its', 'animated', 'features', 'as', 'masterpieces', 'while', 'many', 'of', 'them', 'are', 'there', 'are', 'some', 'that', 'do', 'not', 'deserve', 'this', 'appellate', 'in', 'any', 'way', 'cinderella', 'is', 'prime_example', 'of', 'this', 'fact']\n"
     ]
    }
   ],
   "source": [
    "# Build the bigram and trigram models\n",
    "bigram = gensim.models.Phrases(data_words, min_count=5, threshold=100) # higher threshold fewer phrases.\n",
    "trigram = gensim.models.Phrases(bigram[data_words], threshold=100)  \n",
    "\n",
    "# Faster way to get a sentence clubbed as a trigram/bigram\n",
    "bigram_mod = gensim.models.phrases.Phraser(bigram)\n",
    "trigram_mod = gensim.models.phrases.Phraser(trigram)\n",
    "\n",
    "# See trigram example\n",
    "print(trigram_mod[bigram_mod[data_words[0]]])"
   ]
  },
  {
   "cell_type": "markdown",
   "metadata": {},
   "source": [
    "Remove stop words\n"
   ]
  },
  {
   "cell_type": "code",
   "execution_count": 9,
   "metadata": {},
   "outputs": [
    {
     "name": "stderr",
     "output_type": "stream",
     "text": [
      "[nltk_data] Downloading package stopwords to\n",
      "[nltk_data]     C:\\Users\\Admin\\AppData\\Roaming\\nltk_data...\n",
      "[nltk_data]   Package stopwords is already up-to-date!\n"
     ]
    }
   ],
   "source": [
    "import nltk\n",
    "nltk.download('stopwords')\n",
    "\n",
    "# Define functions for stopwords, bigrams, trigrams and lemmatization\n",
    "def remove_stopwords(texts):\n",
    "    return [[word for word in simple_preprocess(str(doc)) if word not in stop_words] for doc in texts]\n",
    "\n",
    "def make_bigrams(texts):\n",
    "    return [bigram_mod[doc] for doc in texts]\n",
    "\n",
    "def make_trigrams(texts):\n",
    "    return [trigram_mod[bigram_mod[doc]] for doc in texts]\n",
    "\n",
    "def lemmatization(texts, allowed_postags=['NOUN', 'ADJ', 'VERB', 'ADV']):\n",
    "    \"\"\"https://spacy.io/api/annotation\"\"\"\n",
    "    texts_out = []\n",
    "    for sent in texts:\n",
    "        doc = nlp(\" \".join(sent)) \n",
    "        texts_out.append([token.lemma_ for token in doc if token.pos_ in allowed_postags])\n",
    "    return texts_out"
   ]
  },
  {
   "cell_type": "code",
   "execution_count": 11,
   "metadata": {},
   "outputs": [
    {
     "name": "stdout",
     "output_type": "stream",
     "text": [
      "[['get', 'vote', 'bad', 'disney', 'princess', 'movie', 'bad', 'movie', 'company', 'make', 'walt', 'lifetime', 'music', 'genuinely', 'pretty', 'story', 'deserve', 'call', 'classic', 'fail', 'movie', 'character', 'particularly', 'title', 'character', 'call', 'heroine', 'loose', 'sense', 'term', 'audience', 'introduce', 'wake', 'morning', 'singing', 'dream', 'wish', 'heart', 'make', 'establishe', 'idealist', 'thus', 'deserve', 'sympathy', 'unfortunately', 'script', 'give', 'clue', 'dream', 'freedom', 'servant', 'role', 'respect', 'stepfamily', 'talk', 'mouse', 'bird', 'song', 'cut', 'movie', 'present', 'special', 'feature', 'section', 'late', 'dvd', 'cinderella', 'relate', 'wish', 'many', 'work', 'efficiently', 'go', 'girlfriend', 'short', 'cinderella', 'bland', 'character', 'passively', 'accept', 'abuse', 'escape', 'unspoken', 'dream', 'relief', 'assert', 'remind', 'stepmother', 'still', 'member', 'family', 'give', 'permission', 'go', 'ball', 'complete', 'housework', 'find', 'wear', 'token', 'gesture', 'clearly', 'absurd', 'course', 'cinderella', 'see', 'dull', 'male', 'counterpart', 'short', 'lifeless', 'get', 'dialog', 'almost', 'screen', 'time', 'give', 'indication', 'good', 'man', 'respect', 'cinderella', 'know', 'prince', 'dance', 'well', 'even', 'get', 'sing', 'romantic', 'song', 'least', 'lack', 'development', 'make', 'romance', 'less', 'interesting', 'make', 'cinderella', 'look', 'social', 'climber', 'idiot', 'weaken', 'already', 'tenuous', 'appeal', 'perhaps', 'realize', 'dull', 'main', 'character', 'animator', 'choose', 'give', 'excessive', 'screen', 'time', 'movie', 'comic_relief', 'cinderella', 'friend', 'mouse', 'grant', 'character', 'amuse', 'even', 'comic_relief', 'steal', 'show', 'principal', 'well', 'let', 'say', 'story', 'problem', 'dinsey', 'love', 'proclaim', 'animated', 'feature', 'masterpiece', 'many', 'deserve', 'appellate', 'way', 'prime', 'example', 'fact']]\n"
     ]
    }
   ],
   "source": [
    "from gensim.utils import simple_preprocess\n",
    "import spacy\n",
    "\n",
    "# NLTK Stop words\n",
    "from nltk.corpus import stopwords\n",
    "stop_words = stopwords.words('english')\n",
    "\n",
    "# Remove Stop Words\n",
    "data_words_nostops = remove_stopwords(data_words)\n",
    "\n",
    "# Form Bigrams\n",
    "data_words_bigrams = make_bigrams(data_words_nostops)\n",
    "\n",
    "# Initialize spacy 'en' model, keeping only tagger component (for efficiency)\n",
    "# python3 -m spacy download en\n",
    "nlp = spacy.load('en_core_web_sm', disable=['parser', 'ner'])\n",
    "\n",
    "# Do lemmatization keeping only noun, adj, vb, adv\n",
    "data_lemmatized = lemmatization(data_words_bigrams, allowed_postags=['NOUN', 'ADJ', 'VERB', 'ADV'])\n",
    "\n",
    "print(data_lemmatized[:1])"
   ]
  },
  {
   "cell_type": "markdown",
   "metadata": {},
   "source": [
    "# Create a dictionary and a corpus\n"
   ]
  },
  {
   "cell_type": "code",
   "execution_count": 13,
   "metadata": {},
   "outputs": [],
   "source": [
    "import gensim.corpora as corpora\n",
    "\n",
    "# Create Dictionary\n",
    "id2word = corpora.Dictionary(data_lemmatized)\n",
    "\n",
    "# Create Corpus\n",
    "texts = data_lemmatized\n",
    "\n",
    "# Term Document Frequency\n",
    "corpus = [id2word.doc2bow(text) for text in texts]"
   ]
  },
  {
   "cell_type": "markdown",
   "metadata": {},
   "source": [
    "# Build LDA model\n"
   ]
  },
  {
   "cell_type": "code",
   "execution_count": 14,
   "metadata": {},
   "outputs": [],
   "source": [
    "# Build LDA model\n",
    "pos_lda_model = gensim.models.ldamodel.LdaModel(corpus=corpus,\n",
    "                                           id2word=id2word,\n",
    "                                           num_topics=20, \n",
    "                                           random_state=100,\n",
    "                                           update_every=1,\n",
    "                                           chunksize=100,\n",
    "                                           passes=5,\n",
    "                                           alpha='auto',\n",
    "                                           per_word_topics=True)"
   ]
  },
  {
   "cell_type": "code",
   "execution_count": 16,
   "metadata": {},
   "outputs": [],
   "source": [
    "pos_lda_model.save(\"pos_model_lda.model\")"
   ]
  },
  {
   "cell_type": "code",
   "execution_count": 18,
   "metadata": {},
   "outputs": [
    {
     "name": "stdout",
     "output_type": "stream",
     "text": [
      "[(0,\n",
      "  '0.062*\"deal\" + 0.040*\"oscar\" + 0.038*\"crew\" + 0.031*\"push\" + 0.029*\"tough\" '\n",
      "  '+ 0.025*\"radio\" + 0.024*\"addition\" + 0.023*\"sum\" + 0.020*\"fresh\" + '\n",
      "  '0.018*\"silent\"'),\n",
      " (1,\n",
      "  '0.049*\"war\" + 0.030*\"western\" + 0.024*\"bond\" + 0.023*\"student\" + '\n",
      "  '0.022*\"apparently\" + 0.022*\"human\" + 0.019*\"message\" + 0.019*\"documentary\" '\n",
      "  '+ 0.016*\"earth\" + 0.016*\"machine\"'),\n",
      " (2,\n",
      "  '0.047*\"zombie\" + 0.030*\"innocent\" + 0.019*\"highlight\" + '\n",
      "  '0.018*\"supporting_cast\" + 0.018*\"ultimate\" + 0.017*\"dynamic\" + '\n",
      "  '0.015*\"threat\" + 0.015*\"psychological\" + 0.014*\"kudo\" + 0.012*\"fare\"'),\n",
      " (3,\n",
      "  '0.101*\"season\" + 0.025*\"condition\" + 0.020*\"irony\" + 0.019*\"th\" + '\n",
      "  '0.019*\"spoof\" + 0.017*\"web\" + 0.016*\"freak\" + 0.014*\"airplane\" + '\n",
      "  '0.013*\"absence\" + 0.010*\"staple\"'),\n",
      " (4,\n",
      "  '0.093*\"movie\" + 0.026*\"get\" + 0.026*\"see\" + 0.020*\"watch\" + 0.017*\"really\" '\n",
      "  '+ 0.017*\"go\" + 0.016*\"people\" + 0.015*\"make\" + 0.014*\"know\" + 0.013*\"love\"'),\n",
      " (5,\n",
      "  '0.039*\"vampire\" + 0.034*\"fellow\" + 0.027*\"truck\" + 0.026*\"occasionally\" + '\n",
      "  '0.023*\"bmovie\" + 0.021*\"protect\" + 0.020*\"cash\" + 0.018*\"earn\" + '\n",
      "  '0.017*\"children\" + 0.017*\"youth\"'),\n",
      " (6,\n",
      "  '0.066*\"scifi\" + 0.046*\"shakespeare\" + 0.030*\"factor\" + 0.016*\"jaw\" + '\n",
      "  '0.015*\"comic_strip\" + 0.013*\"strictly\" + 0.013*\"similarity\" + 0.013*\"jerry\" '\n",
      "  '+ 0.010*\"stink\" + 0.010*\"similarly\"'),\n",
      " (7,\n",
      "  '0.047*\"value\" + 0.046*\"individual\" + 0.044*\"criminal\" + 0.033*\"suspect\" + '\n",
      "  '0.030*\"setting\" + 0.022*\"belief\" + 0.021*\"investigate\" + 0.018*\"dollar\" + '\n",
      "  '0.014*\"arrest\" + 0.013*\"motive\"'),\n",
      " (8,\n",
      "  '0.052*\"game\" + 0.031*\"writer\" + 0.023*\"relationship\" + 0.021*\"monster\" + '\n",
      "  '0.018*\"actual\" + 0.018*\"trouble\" + 0.017*\"reveal\" + 0.016*\"ground\" + '\n",
      "  '0.015*\"cartoon\" + 0.014*\"animal\"'),\n",
      " (9,\n",
      "  '0.107*\"guy\" + 0.036*\"sex\" + 0.035*\"meet\" + 0.027*\"white\" + 0.025*\"soldier\" '\n",
      "  '+ 0.022*\"plan\" + 0.021*\"violence\" + 0.020*\"realistic\" + 0.019*\"sad\" + '\n",
      "  '0.019*\"fire\"'),\n",
      " (10,\n",
      "  '0.123*\"horror\" + 0.085*\"hear\" + 0.038*\"sequel\" + 0.030*\"typical\" + '\n",
      "  '0.028*\"brain\" + 0.025*\"cost\" + 0.023*\"d\" + 0.020*\"imdb\" + 0.018*\"frame\" + '\n",
      "  '0.017*\"slasher\"'),\n",
      " (11,\n",
      "  '0.043*\"independent\" + 0.031*\"italian\" + 0.026*\"wonderfully\" + '\n",
      "  '0.022*\"lighting\" + 0.018*\"supernatural\" + 0.017*\"creator\" + 0.017*\"nerve\" + '\n",
      "  '0.015*\"rough\" + 0.013*\"visually\" + 0.013*\"stomach\"'),\n",
      " (12,\n",
      "  '0.052*\"hollywood\" + 0.049*\"crap\" + 0.034*\"team\" + 0.029*\"claim\" + '\n",
      "  '0.021*\"surprisingly\" + 0.019*\"track\" + 0.019*\"generally\" + 0.017*\"awesome\" '\n",
      "  '+ 0.016*\"storyline\" + 0.015*\"political\"'),\n",
      " (13,\n",
      "  '0.186*\"episode\" + 0.030*\"worst\" + 0.027*\"living\" + 0.018*\"consist\" + '\n",
      "  '0.018*\"trial\" + 0.017*\"initial\" + 0.016*\"bull\" + 0.015*\"mexican\" + '\n",
      "  '0.011*\"hood\" + 0.010*\"robin\"'),\n",
      " (14,\n",
      "  '0.044*\"spoil\" + 0.035*\"wind\" + 0.029*\"foot\" + 0.022*\"pleasantly_surprise\" + '\n",
      "  '0.021*\"lust\" + 0.021*\"ok\" + 0.013*\"ludicrous\" + 0.011*\"simplistic\" + '\n",
      "  '0.002*\"automobile\" + 0.000*\"tobacco\"'),\n",
      " (15,\n",
      "  '0.051*\"king\" + 0.037*\"impress\" + 0.022*\"whatsoever\" + 0.014*\"cure\" + '\n",
      "  '0.014*\"float\" + 0.012*\"lift\" + 0.011*\"inaccurate\" + 0.010*\"unconvincing\" + '\n",
      "  '0.007*\"psychic\" + 0.006*\"dead_bodie\"'),\n",
      " (16,\n",
      "  '0.000*\"laughed\" + 0.000*\"sherrif\" + 0.000*\"dna\" + 0.000*\"dreadlock\" + '\n",
      "  '0.000*\"eyepatch\" + 0.000*\"jamaican\" + 0.000*\"presidential\" + 0.000*\"matey\" '\n",
      "  '+ 0.000*\"grizzly\" + 0.000*\"yarr\"'),\n",
      " (17,\n",
      "  '0.043*\"film\" + 0.015*\"good\" + 0.013*\"make\" + 0.012*\"well\" + '\n",
      "  '0.011*\"character\" + 0.010*\"time\" + 0.010*\"story\" + 0.010*\"s\" + '\n",
      "  '0.009*\"scene\" + 0.007*\"also\"'),\n",
      " (18,\n",
      "  '0.029*\"conflict\" + 0.023*\"window\" + 0.022*\"superior\" + 0.020*\"here\" + '\n",
      "  '0.017*\"professor\" + 0.017*\"empty\" + 0.016*\"flesh\" + 0.016*\"program\" + '\n",
      "  '0.016*\"supposedly\" + 0.014*\"park\"'),\n",
      " (19,\n",
      "  '0.000*\"laughed\" + 0.000*\"sherrif\" + 0.000*\"dna\" + 0.000*\"dreadlock\" + '\n",
      "  '0.000*\"eyepatch\" + 0.000*\"jamaican\" + 0.000*\"presidential\" + 0.000*\"matey\" '\n",
      "  '+ 0.000*\"grizzly\" + 0.000*\"yarr\"')]\n"
     ]
    }
   ],
   "source": [
    "from pprint import pprint\n",
    "\n",
    "# Print the Keyword in the 10 topics\n",
    "pprint(pos_lda_model.print_topics())\n",
    "doc_lda = pos_lda_model[corpus]"
   ]
  },
  {
   "cell_type": "markdown",
   "metadata": {},
   "source": [
    "# Evaluate the model\n"
   ]
  },
  {
   "cell_type": "code",
   "execution_count": 21,
   "metadata": {},
   "outputs": [
    {
     "name": "stdout",
     "output_type": "stream",
     "text": [
      "\n",
      "Perplexity:  -12.91864646842168\n",
      "\n",
      "Coherence Score:  0.4254692122408879\n"
     ]
    }
   ],
   "source": [
    "from gensim.models.coherencemodel import CoherenceModel\n",
    "\n",
    "# Compute Perplexity\n",
    "print('\\nPerplexity: ', pos_lda_model.log_perplexity(corpus))  # a measure of how good the model is. lower the better.\n",
    "\n",
    "# Compute Coherence Score\n",
    "coherence_model_lda = CoherenceModel(model=pos_lda_model, texts=data_lemmatized, dictionary=id2word, coherence='c_v')\n",
    "coherence_lda = coherence_model_lda.get_coherence()\n",
    "print('\\nCoherence Score: ', coherence_lda)"
   ]
  }
 ],
 "metadata": {
  "kernelspec": {
   "display_name": "Python 3",
   "language": "python",
   "name": "python3"
  },
  "language_info": {
   "codemirror_mode": {
    "name": "ipython",
    "version": 3
   },
   "file_extension": ".py",
   "mimetype": "text/x-python",
   "name": "python",
   "nbconvert_exporter": "python",
   "pygments_lexer": "ipython3",
   "version": "3.12.3"
  }
 },
 "nbformat": 4,
 "nbformat_minor": 2
}
